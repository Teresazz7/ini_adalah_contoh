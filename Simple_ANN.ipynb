{
  "nbformat": 4,
  "nbformat_minor": 0,
  "metadata": {
    "colab": {
      "provenance": [],
      "include_colab_link": true
    },
    "kernelspec": {
      "name": "python3",
      "display_name": "Python 3"
    },
    "language_info": {
      "name": "python"
    }
  },
  "cells": [
    {
      "cell_type": "markdown",
      "metadata": {
        "id": "view-in-github",
        "colab_type": "text"
      },
      "source": [
        "<a href=\"https://colab.research.google.com/github/Teresazz7/ini_adalah_contoh/blob/main/Simple_ANN.ipynb\" target=\"_parent\"><img src=\"https://colab.research.google.com/assets/colab-badge.svg\" alt=\"Open In Colab\"/></a>"
      ]
    },
    {
      "cell_type": "markdown",
      "source": [
        "Intro:\n",
        "Step 1: https://youtu.be/ER2It2mIagI?si=sg909-TBiUisv72b\n",
        "Step 2: https://youtu.be/tUoUdOdTkRw?si=LfZg5Rh2zMvHxFEl\n",
        "Step 3: https://youtu.be/aircAruvnKk?si=Ue9xOqejRKSsyRiP"
      ],
      "metadata": {
        "id": "a9pYjtNwVs4H"
      }
    },
    {
      "cell_type": "markdown",
      "source": [
        "Soal dari sini: https://www.scribd.com/presentation/693124836/2-Jaringan-Syaraf-Tiruan-Artificial-Neural-Network\n",
        "\n"
      ],
      "metadata": {
        "id": "5IC9jKQ_VHEb"
      }
    },
    {
      "cell_type": "code",
      "source": [
        "import numpy as np\n",
        "from tensorflow.keras.models import Sequential\n",
        "from tensorflow.keras.layers import Dense, InputLayer\n",
        "from tensorflow.keras.optimizers import SGD\n",
        "from sklearn.metrics import precision_score, recall_score, accuracy_score\n",
        "\n",
        "# X1=Harta, X2=Hutang\n",
        "X = np.array([\n",
        "    [1.2, 0.3],\n",
        "    [0.8, 0.6],\n",
        "    [1.1, 1.0],\n",
        "    [0.4, 1.0],\n",
        "    [0.5, 1.5]\n",
        "])\n",
        "y = np.array([1, 1, 1, 0, 0])  # 1=Tidak Bangkrut, 0=Bangkrut\n",
        "\n",
        "# Data uji\n",
        "test_data = np.array([[0.7, 0.6]])"
      ],
      "metadata": {
        "id": "cmlQMclBQuzU"
      },
      "execution_count": null,
      "outputs": []
    },
    {
      "cell_type": "code",
      "execution_count": null,
      "metadata": {
        "id": "ow2pvfT_QsyA"
      },
      "outputs": [],
      "source": [
        "## Fungsi untuk membuat dan melatih model\n",
        "def build_and_train_model(X, y, hidden_layers, epochs=1, learning_rate=1.0):\n",
        "    model = Sequential()\n",
        "\n",
        "    # Input layer + first hidden layer\n",
        "    model.add(InputLayer(shape=(2,)))\n",
        "    model.add(Dense(2, activation='sigmoid'))\n",
        "\n",
        "    # Additional hidden layers if any\n",
        "    for units in hidden_layers[1:]:\n",
        "        model.add(Dense(units, activation='sigmoid'))\n",
        "\n",
        "    # Output layer\n",
        "    model.add(Dense(1, activation='sigmoid'))\n",
        "\n",
        "    model.compile(\n",
        "        optimizer=SGD(learning_rate=learning_rate),\n",
        "        loss='binary_crossentropy',\n",
        "        metrics=['accuracy']\n",
        "    )\n",
        "\n",
        "    history = model.fit(X, y, epochs=epochs, verbose=0)\n",
        "    loss = history.history['loss'][0]\n",
        "    accuracy = history.history['accuracy'][0]\n",
        "\n",
        "    # Calculate precision and recall\n",
        "    y_pred = (model.predict(X) > 0.5).astype(int)\n",
        "    precision = precision_score(y, y_pred)\n",
        "    recall = recall_score(y, y_pred)\n",
        "\n",
        "    return model, loss, accuracy, precision, recall"
      ]
    },
    {
      "cell_type": "code",
      "source": [
        "## Eksperimen 1: 1 Hidden Layer (2 neuron)\n",
        "print(\"Eksperimen 1: 1 Hidden Layer (2 neuron)\")\n",
        "model_1layer, loss_1layer, acc_1layer, prec_1layer, rec_1layer = build_and_train_model(X, y, hidden_layers=[2], epochs=2)\n",
        "prediction_1layer = (model_1layer.predict(test_data) > 0.5).astype(int)\n",
        "\n",
        "print(f\"Loss: {loss_1layer:.4f}\")\n",
        "print(f\"Accuracy: {acc_1layer:.4f}\")\n",
        "print(f\"Precision: {prec_1layer:.4f}\")\n",
        "print(f\"Recall: {rec_1layer:.4f}\")\n",
        "print(f\"Prediksi untuk [0.7, 0.6]: {'Tidak Bangkrut' if prediction_1layer[0][0] == 1 else 'Bangkrut'}\")\n",
        "\n",
        "## Eksperimen 2: 3 Hidden Layers (masing-masing 4 neuron)\n",
        "print(\"\\nEksperimen 2: 5 Hidden Layers (16, 10, 10, 10, 10 neuron)\")\n",
        "model_2layer, loss_2layer, acc_2layer, prec_2layer, rec_2layer = build_and_train_model(X, y, hidden_layers=[16, 10, 10, 10, 10], epochs=3)\n",
        "prediction_2layer = (model_2layer.predict(test_data) > 0.5).astype(int)\n",
        "\n",
        "print(f\"Loss: {loss_2layer:.4f}\")\n",
        "print(f\"Accuracy: {acc_2layer:.4f}\")\n",
        "print(f\"Precision: {prec_2layer:.4f}\")\n",
        "print(f\"Recall: {rec_2layer:.4f}\")\n",
        "print(f\"Prediksi untuk [0.7, 0.6]: {'Tidak Bangkrut' if prediction_2layer[0][0] == 1 else 'Bangkrut'}\")\n",
        "\n",
        "## Evaluasi Perbandingan\n",
        "print(\"\\nEvaluasi Perbandingan:\")\n",
        "print(\"Metric          | 1 Hidden Layer | 2 Hidden Layers\")\n",
        "print(f\"Loss            | {loss_1layer:.4f}        | {loss_2layer:.4f}\")\n",
        "print(f\"Accuracy        | {acc_1layer:.4f}        | {acc_2layer:.4f}\")\n",
        "print(f\"Precision       | {prec_1layer:.4f}        | {prec_2layer:.4f}\")\n",
        "print(f\"Recall          | {rec_1layer:.4f}        | {rec_2layer:.4f}\")\n",
        "\n",
        "print(\"\\nKesimpulan:\")\n",
        "if loss_1layer < loss_2layer:\n",
        "    print(\"Model dengan 1 hidden layer performa lebih baik pada epoch pertama\")\n",
        "else:\n",
        "    print(\"Model dengan 2 hidden layers performa lebih baik pada epoch pertama\")"
      ],
      "metadata": {
        "colab": {
          "base_uri": "https://localhost:8080/"
        },
        "id": "IeBoSXyiRofA",
        "outputId": "78b1bd2f-a3b8-4542-ffe7-c341cb662b71"
      },
      "execution_count": null,
      "outputs": [
        {
          "output_type": "stream",
          "name": "stdout",
          "text": [
            "Eksperimen 1: 1 Hidden Layer (2 neuron)\n",
            "\u001b[1m1/1\u001b[0m \u001b[32m━━━━━━━━━━━━━━━━━━━━\u001b[0m\u001b[37m\u001b[0m \u001b[1m0s\u001b[0m 58ms/step\n",
            "\u001b[1m1/1\u001b[0m \u001b[32m━━━━━━━━━━━━━━━━━━━━\u001b[0m\u001b[37m\u001b[0m \u001b[1m0s\u001b[0m 60ms/step\n",
            "Loss: 0.6174\n",
            "Accuracy: 0.6000\n",
            "Precision: 1.0000\n",
            "Recall: 1.0000\n",
            "Prediksi untuk [0.7, 0.6]: Tidak Bangkrut\n",
            "\n",
            "Eksperimen 2: 5 Hidden Layers (16, 10, 10, 10, 10 neuron)\n",
            "\u001b[1m1/1\u001b[0m \u001b[32m━━━━━━━━━━━━━━━━━━━━\u001b[0m\u001b[37m\u001b[0m \u001b[1m0s\u001b[0m 139ms/step\n",
            "\u001b[1m1/1\u001b[0m \u001b[32m━━━━━━━━━━━━━━━━━━━━\u001b[0m\u001b[37m\u001b[0m \u001b[1m0s\u001b[0m 138ms/step\n",
            "Loss: 0.6734\n",
            "Accuracy: 0.6000\n",
            "Precision: 0.6000\n",
            "Recall: 1.0000\n",
            "Prediksi untuk [0.7, 0.6]: Tidak Bangkrut\n",
            "\n",
            "Evaluasi Perbandingan:\n",
            "Metric          | 1 Hidden Layer | 2 Hidden Layers\n",
            "Loss            | 0.6174        | 0.6734\n",
            "Accuracy        | 0.6000        | 0.6000\n",
            "Precision       | 1.0000        | 0.6000\n",
            "Recall          | 1.0000        | 1.0000\n",
            "\n",
            "Kesimpulan:\n",
            "Model dengan 1 hidden layer performa lebih baik pada epoch pertama\n"
          ]
        }
      ]
    }
  ]
}